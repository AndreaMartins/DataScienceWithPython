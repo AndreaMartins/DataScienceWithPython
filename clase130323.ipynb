{
 "cells": [
  {
   "cell_type": "code",
   "execution_count": 2,
   "id": "d16a983f-4304-4049-9d06-a24dd5bd5d78",
   "metadata": {
    "tags": []
   },
   "outputs": [],
   "source": [
    "#con la almohadilla hacemos un comentario, es una linea de codigo que no se ejecutA\n",
    "#Jupiter lab, se puede ejecutar por celdas, se ejecuta bien con run o con la \n",
    "#combinacion de teclas shift+enter"
   ]
  },
  {
   "cell_type": "code",
   "execution_count": 3,
   "id": "cd1a9368-863f-49fa-be99-af18faf2f3c4",
   "metadata": {
    "tags": []
   },
   "outputs": [],
   "source": [
    "#vamos a empezar por ver una varibale u objeto en Python\n",
    "#un objeto que almacena temporalmente un valor, en puython las\n",
    "#variables no se declaran , se les asigna un valor \n",
    "x=5"
   ]
  },
  {
   "cell_type": "code",
   "execution_count": 4,
   "id": "5610466c-7002-4d5c-a1ff-22bfa3cff433",
   "metadata": {
    "tags": []
   },
   "outputs": [
    {
     "data": {
      "text/plain": [
       "5"
      ]
     },
     "execution_count": 4,
     "metadata": {},
     "output_type": "execute_result"
    }
   ],
   "source": [
    "#como ver la salida de un objeto ovariable\n",
    "x"
   ]
  },
  {
   "cell_type": "code",
   "execution_count": 5,
   "id": "c5fe797a-3d40-468a-9315-3acd4817e02a",
   "metadata": {
    "tags": []
   },
   "outputs": [
    {
     "name": "stdout",
     "output_type": "stream",
     "text": [
      "5\n"
     ]
    }
   ],
   "source": [
    "#0 con la funcion print(x), me imprime el valor x, todas las funciones \n",
    "#necesitan despues del nombre los parentesis de apertura y de cierre, dentro\n",
    "#van los parametros, que son los valores que yo le paso a la funcion\n",
    "print(x)"
   ]
  },
  {
   "cell_type": "code",
   "execution_count": 6,
   "id": "d415fbd6-12c1-4549-a4df-33c646c9e221",
   "metadata": {
    "tags": []
   },
   "outputs": [
    {
     "name": "stdout",
     "output_type": "stream",
     "text": [
      "15\n"
     ]
    }
   ],
   "source": [
    "#No es lo mismo x que X\n",
    "X=10\n",
    "print(x+X)"
   ]
  },
  {
   "cell_type": "code",
   "execution_count": 7,
   "id": "c6b054cd-36aa-4961-b865-3099833bb461",
   "metadata": {
    "tags": []
   },
   "outputs": [
    {
     "name": "stdout",
     "output_type": "stream",
     "text": [
      "Juan\n"
     ]
    }
   ],
   "source": [
    "#Como asignar una variable tipo text\n",
    "z=\"Juan\"\n",
    "print(z)\n"
   ]
  },
  {
   "cell_type": "code",
   "execution_count": 9,
   "id": "4cdb467c-d89a-46f1-a30e-2575ce96cdae",
   "metadata": {
    "tags": []
   },
   "outputs": [
    {
     "name": "stdout",
     "output_type": "stream",
     "text": [
      "mi nombre es Juan\n"
     ]
    }
   ],
   "source": [
    "#Como podemos componer un texto con print\n",
    "print(\"mi nombre es \" + z)"
   ]
  },
  {
   "cell_type": "code",
   "execution_count": 12,
   "id": "f285f211-2340-4753-a55e-1b3b8e708d0e",
   "metadata": {
    "tags": []
   },
   "outputs": [
    {
     "name": "stdout",
     "output_type": "stream",
     "text": [
      "El valor de x es 5\n"
     ]
    }
   ],
   "source": [
    "#No podemos concatenar texto entre comillas con un numero\n",
    "#como solucion podemos utilizar la funcion str() que convierte\n",
    "#un numero a texto\n",
    "print(\"El valor de x es \" + str(x))"
   ]
  },
  {
   "cell_type": "code",
   "execution_count": 17,
   "id": "7d1a8ca6-30e5-4f28-8848-57dd69eca582",
   "metadata": {
    "tags": []
   },
   "outputs": [],
   "source": [
    "#Para convertirlo directamente\n",
    "x = str(x)\n",
    "#Para volver a convertirlo a numero con funcion int()\n",
    "#lo convierto a numero entero\n",
    "x = int(x)\n",
    "#si los quiero convertir a decimal float ()\n",
    "x = float(x)"
   ]
  },
  {
   "cell_type": "code",
   "execution_count": 18,
   "id": "ad3d682f-4a1d-4ead-bcbb-e7f61df8d569",
   "metadata": {
    "tags": []
   },
   "outputs": [
    {
     "data": {
      "text/plain": [
       "15.0"
      ]
     },
     "execution_count": 18,
     "metadata": {},
     "output_type": "execute_result"
    }
   ],
   "source": [
    "x + X"
   ]
  },
  {
   "cell_type": "code",
   "execution_count": 24,
   "id": "0e9d1ac2-e051-4ffe-ba08-d753ff96ad69",
   "metadata": {
    "tags": []
   },
   "outputs": [],
   "source": [
    "#como incremetar una variable\n",
    "x = x+1\n",
    "int(x)\n",
    "#otra manera de incrementar una variable\n",
    "x+=1"
   ]
  },
  {
   "cell_type": "code",
   "execution_count": 25,
   "id": "ae44d834-aa96-447c-a31d-009c6203ba2f",
   "metadata": {
    "tags": []
   },
   "outputs": [
    {
     "data": {
      "text/plain": [
       "11.0"
      ]
     },
     "execution_count": 25,
     "metadata": {},
     "output_type": "execute_result"
    }
   ],
   "source": [
    "x"
   ]
  },
  {
   "cell_type": "code",
   "execution_count": 26,
   "id": "269a59fa-46b9-4bf2-b446-acd76b607cb5",
   "metadata": {
    "tags": []
   },
   "outputs": [
    {
     "name": "stdout",
     "output_type": "stream",
     "text": [
      "JuanJuanJuan\n"
     ]
    }
   ],
   "source": [
    "print(z*3)"
   ]
  },
  {
   "cell_type": "code",
   "execution_count": 28,
   "id": "a14f8e7e-40f1-4c36-a0c4-b8c6c1b1e28a",
   "metadata": {
    "tags": []
   },
   "outputs": [
    {
     "name": "stdout",
     "output_type": "stream",
     "text": [
      "['carne', 'huevos', 5, 'Leche', 10, 'Ensalada', 11.0]\n"
     ]
    }
   ],
   "source": [
    "#las listas en Python, son variables que almacenan varios elementos\n",
    "#son heterogeneas(pueden contener diferentes tipos de valor, numero, texto, etc..)\n",
    "#abriendo y cerrando corchetes\n",
    "Lista = [\"carne\", \"huevos\", 5, \"Leche\", 10, \"Ensalada\", x]\n",
    "print(Lista)"
   ]
  },
  {
   "cell_type": "code",
   "execution_count": 29,
   "id": "995c65c1-69da-481e-8cef-1d9441ee7be0",
   "metadata": {
    "tags": []
   },
   "outputs": [
    {
     "data": {
      "text/plain": [
       "'carne'"
      ]
     },
     "execution_count": 29,
     "metadata": {},
     "output_type": "execute_result"
    }
   ],
   "source": [
    "#como acceder a un elemento de la lista, mediante su indice\n",
    "#el primer elemento es el indice 0\n",
    "Lista[0]"
   ]
  },
  {
   "cell_type": "code",
   "execution_count": 33,
   "id": "cec8f3c4-e707-4c6c-b2c3-8e3f63904979",
   "metadata": {
    "tags": []
   },
   "outputs": [
    {
     "name": "stdout",
     "output_type": "stream",
     "text": [
      "7\n"
     ]
    },
    {
     "data": {
      "text/plain": [
       "4"
      ]
     },
     "execution_count": 33,
     "metadata": {},
     "output_type": "execute_result"
    }
   ],
   "source": [
    "#una funcion llamada Len, que nos da el numero de elementos\n",
    "#de una lista o de una variable\n",
    "print(len(Lista))\n",
    "len(z)"
   ]
  },
  {
   "cell_type": "code",
   "execution_count": 34,
   "id": "e74f6bf2-6cdd-44ff-97fe-b90c91159e0e",
   "metadata": {
    "tags": []
   },
   "outputs": [
    {
     "data": {
      "text/plain": [
       "['carne', 'huevos', 5, 'Leche', 10, 'Ensalada', 11.0, 'Pan']"
      ]
     },
     "execution_count": 34,
     "metadata": {},
     "output_type": "execute_result"
    }
   ],
   "source": [
    "#como anadir un elemento a una lista, con append(va al final)\n",
    "Lista.append(\"Pan\")\n",
    "Lista"
   ]
  },
  {
   "cell_type": "code",
   "execution_count": 36,
   "id": "ea55306b-b9ab-449c-90d2-8b40cf7cb19d",
   "metadata": {
    "tags": []
   },
   "outputs": [
    {
     "data": {
      "text/plain": [
       "['carne',\n",
       " 'nutella',\n",
       " 'nutella',\n",
       " 'huevos',\n",
       " 5,\n",
       " 'Leche',\n",
       " 10,\n",
       " 'Ensalada',\n",
       " 11.0,\n",
       " 'Pan']"
      ]
     },
     "execution_count": 36,
     "metadata": {},
     "output_type": "execute_result"
    }
   ],
   "source": [
    "#como insertar un elemento a una lista, hay que indicarle la posicion\n",
    "Lista.insert(1, \"nutella\")\n",
    "Lista"
   ]
  },
  {
   "cell_type": "code",
   "execution_count": 37,
   "id": "f178dd5b-7483-470d-9af8-262cce8ee854",
   "metadata": {
    "tags": []
   },
   "outputs": [
    {
     "data": {
      "text/plain": [
       "['carne', 'nutella', 'nutella', 'huevos', 5, 10, 'Ensalada', 11.0, 'Pan']"
      ]
     },
     "execution_count": 37,
     "metadata": {},
     "output_type": "execute_result"
    }
   ],
   "source": [
    "#como eliminar un elemento de una list, su primera aparicion\n",
    "Lista.remove(\"Leche\")\n",
    "Lista"
   ]
  },
  {
   "cell_type": "code",
   "execution_count": 38,
   "id": "efa6a539-196a-46f0-b077-f786df22ef8d",
   "metadata": {
    "tags": []
   },
   "outputs": [
    {
     "data": {
      "text/plain": [
       "['carne',\n",
       " 'nutella',\n",
       " 'nutella',\n",
       " 'huevos',\n",
       " 5,\n",
       " 10,\n",
       " 'Ensalada',\n",
       " 11.0,\n",
       " 'Pan',\n",
       " 'ensalada']"
      ]
     },
     "execution_count": 38,
     "metadata": {},
     "output_type": "execute_result"
    }
   ],
   "source": [
    "#en python las comillas pueden ser simples o dobles\n",
    "Lista.append('ensalada')\n",
    "Lista"
   ]
  },
  {
   "cell_type": "code",
   "execution_count": 40,
   "id": "529006e2-972f-4bc3-9f5c-61422d0ccdbf",
   "metadata": {
    "tags": []
   },
   "outputs": [
    {
     "data": {
      "text/plain": [
       "2"
      ]
     },
     "execution_count": 40,
     "metadata": {},
     "output_type": "execute_result"
    }
   ],
   "source": [
    "#ver numero de veces repetido un valor\n",
    "Lista.count('nutella')"
   ]
  },
  {
   "cell_type": "code",
   "execution_count": 46,
   "id": "150d6747-3318-46aa-8eda-4dabbb0606a9",
   "metadata": {
    "tags": []
   },
   "outputs": [
    {
     "name": "stdout",
     "output_type": "stream",
     "text": [
      "['lunes', 'martes', 'jueves', 'viernes', 'sabado']\n",
      "['lunes', 'martes', 'jueves', 'viernes', 'sabado', 'domingo']\n",
      "['lunes', 'martes', 'miercoles', 'jueves', 'viernes', 'sabado', 'domingo', 'jueves']\n",
      "El numero de veces que esta repetido jueves es 2\n",
      "['lunes', 'miercoles', 'jueves', 'viernes', 'sabado', 'domingo', 'jueves']\n"
     ]
    }
   ],
   "source": [
    "#Practica 1:\n",
    "#crear una lista llamada semana que contenga los dias de lunes a viernes\n",
    "#menos el miercoles, despues anadir el sabado y elñ domingo\n",
    "#insertar el miercoles en su lugar correspondiente, anadir tmb el jueves\n",
    "#y contar cuantas veces aparece jueves, finalmente eliminar el martes\n",
    "\n",
    "semana = ['lunes', 'martes', 'jueves', 'viernes']\n",
    "semana.append('sabado')\n",
    "print(semana)\n",
    "semana.append('domingo')\n",
    "print(semana)\n",
    "semana.insert(2, 'miercoles')\n",
    "semana.append('jueves')\n",
    "print(semana)\n",
    "print( \"El numero de veces que esta repetido jueves es \" + str(semana.count('jueves')))\n",
    "semana.remove('martes')\n",
    "print(semana)"
   ]
  },
  {
   "cell_type": "code",
   "execution_count": 48,
   "id": "485d7552-8da8-4259-b872-d6f0102ec8e0",
   "metadata": {
    "tags": []
   },
   "outputs": [],
   "source": [
    "#funciones de resumen con listas numericas\n",
    "pares=[0,2,4,6,8,10]\n"
   ]
  },
  {
   "cell_type": "code",
   "execution_count": 49,
   "id": "a78660e8-1b24-4ddf-b250-cd9d3575cdb1",
   "metadata": {
    "tags": []
   },
   "outputs": [
    {
     "data": {
      "text/plain": [
       "10"
      ]
     },
     "execution_count": 49,
     "metadata": {},
     "output_type": "execute_result"
    }
   ],
   "source": [
    "#para ver el valor mas grande , funcion max()\n",
    "max(pares)"
   ]
  },
  {
   "cell_type": "code",
   "execution_count": 50,
   "id": "f8e16f1a-509c-4ee6-8106-d63d162607ae",
   "metadata": {
    "tags": []
   },
   "outputs": [
    {
     "data": {
      "text/plain": [
       "0"
      ]
     },
     "execution_count": 50,
     "metadata": {},
     "output_type": "execute_result"
    }
   ],
   "source": [
    "#para ver el valor mas pequeno , funcion min()\n",
    "min(pares)"
   ]
  },
  {
   "cell_type": "code",
   "execution_count": 51,
   "id": "7e43ec3d-6d59-4c89-80bb-c776c64fccdc",
   "metadata": {
    "tags": []
   },
   "outputs": [
    {
     "data": {
      "text/plain": [
       "30"
      ]
     },
     "execution_count": 51,
     "metadata": {},
     "output_type": "execute_result"
    }
   ],
   "source": [
    "#para sumar los valores de la lista\n",
    "sum(pares)"
   ]
  },
  {
   "cell_type": "code",
   "execution_count": 78,
   "id": "325ff6b6-ad0c-485a-a1ad-e3cd0d886148",
   "metadata": {
    "tags": []
   },
   "outputs": [
    {
     "data": {
      "text/plain": [
       "'Hoy es dia 13 de marzo'"
      ]
     },
     "execution_count": 78,
     "metadata": {},
     "output_type": "execute_result"
    }
   ],
   "source": [
    "#una funcion para substituit un texto, con la funcion replace\n",
    "frase = \"Hoy es dia 13 de marzo\"\n",
    "frase"
   ]
  },
  {
   "cell_type": "code",
   "execution_count": 79,
   "id": "3e706a99-dfe4-41d8-a223-f5b70308976c",
   "metadata": {
    "tags": []
   },
   "outputs": [
    {
     "name": "stdout",
     "output_type": "stream",
     "text": [
      "Hoy es dia 13 de mayo\n"
     ]
    }
   ],
   "source": [
    "print(frase.replace('marzo','mayo'))"
   ]
  },
  {
   "cell_type": "code",
   "execution_count": 80,
   "id": "6fc4f6f9-0ad6-4671-8036-5c137d4490fd",
   "metadata": {
    "tags": []
   },
   "outputs": [
    {
     "data": {
      "text/plain": [
       "'HOY ES DIA 13 DE MARZO'"
      ]
     },
     "execution_count": 80,
     "metadata": {},
     "output_type": "execute_result"
    }
   ],
   "source": [
    "#Poner un texto en mayusculas con upper\"\n",
    "frase = frase.upper()\n",
    "frase"
   ]
  },
  {
   "cell_type": "code",
   "execution_count": 81,
   "id": "f2ad429c-fc62-498c-8476-6c65fa060633",
   "metadata": {
    "tags": []
   },
   "outputs": [
    {
     "name": "stdout",
     "output_type": "stream",
     "text": [
      "hoy es dia 13 de marzo\n"
     ]
    }
   ],
   "source": [
    "#Poner el texto en minuscula\n",
    "print(frase.lower())"
   ]
  },
  {
   "cell_type": "code",
   "execution_count": 85,
   "id": "c4d7bdb7-f5d5-4234-8700-eccc18ab1ce6",
   "metadata": {
    "tags": []
   },
   "outputs": [
    {
     "data": {
      "text/plain": [
       "[0, 1, 2, 3, 4, 5, 6, 7, 8, 9, 10, 11, 12, 13, 14]"
      ]
     },
     "execution_count": 85,
     "metadata": {},
     "output_type": "execute_result"
    }
   ],
   "source": [
    "#una funcion llamada range que genera numeros\n",
    "q = range(15)\n",
    "#con list vemos una lista\n",
    "list(q)"
   ]
  },
  {
   "cell_type": "code",
   "execution_count": 86,
   "id": "6726f351-5874-43fe-9f4a-0e7e2ba71c21",
   "metadata": {
    "tags": []
   },
   "outputs": [],
   "source": [
    "#vamos a crear funciones personalizadascon Python\n",
    "#primero la palabra clave def\n",
    "#segundo el nombre de la funcion(sin espacios en blanco, ni caracteres especiales)\n",
    "#tercero el parentesis de apertura(dentro los parametros)\n",
    "#cuarto el parentesis de cierre y depues : (2puuntos)\n",
    "#el codigo que esta dentro de la funcion tiene que ir identado (4 espacios a la derecha)"
   ]
  },
  {
   "cell_type": "code",
   "execution_count": 92,
   "id": "85f42d76-f62d-490f-b14b-318048183050",
   "metadata": {
    "tags": []
   },
   "outputs": [],
   "source": [
    "def suma10(w,e):\n",
    "    return w+e+10\n",
    "\n",
    "#aqui termina la funcion cuando la linea regresa a la primera columna"
   ]
  },
  {
   "cell_type": "code",
   "execution_count": 93,
   "id": "c338cac2-b230-4e35-bd9c-9d2ee4115424",
   "metadata": {
    "tags": []
   },
   "outputs": [
    {
     "data": {
      "text/plain": [
       "85"
      ]
     },
     "execution_count": 93,
     "metadata": {},
     "output_type": "execute_result"
    }
   ],
   "source": [
    "#vamos a llamar a la funcion\n",
    "suma10(55, 20)"
   ]
  },
  {
   "cell_type": "code",
   "execution_count": 94,
   "id": "0d6dde46-2457-4c51-8d69-1fdc14f1acdc",
   "metadata": {
    "tags": []
   },
   "outputs": [],
   "source": [
    "#practica 1, crear la funcion area del triangulo, para que nos de el area si le indicamos base y altura\n",
    "#practica 2, crear funcion dimetunombre, para que nos de un text, tu nombre es aa y tu apellido bb, indicamos por serado nombre y apellido"
   ]
  },
  {
   "cell_type": "code",
   "execution_count": 95,
   "id": "6ded0bfd-fccc-436d-a965-33766392c53a",
   "metadata": {
    "tags": []
   },
   "outputs": [],
   "source": [
    "def areatriangulo(a, b):\n",
    "    return a*b /2"
   ]
  },
  {
   "cell_type": "code",
   "execution_count": 119,
   "id": "d74db8a9-9ff2-40e3-9b18-f6d267e84478",
   "metadata": {
    "tags": []
   },
   "outputs": [],
   "source": [
    "def dimetunombre(a, b):\n",
    "    texto =  \"tu nombre es \" + a + \" y tu apellido \" + b\n",
    "    return(texto.upper())"
   ]
  },
  {
   "cell_type": "code",
   "execution_count": 102,
   "id": "158d67c3-b646-418c-ad5f-eac9190c459e",
   "metadata": {
    "tags": []
   },
   "outputs": [
    {
     "data": {
      "text/plain": [
       "100.0"
      ]
     },
     "execution_count": 102,
     "metadata": {},
     "output_type": "execute_result"
    }
   ],
   "source": [
    "areatriangulo(10,20)"
   ]
  },
  {
   "cell_type": "code",
   "execution_count": 120,
   "id": "79ddb118-c3f7-40c4-88de-f07531a0f429",
   "metadata": {
    "tags": []
   },
   "outputs": [
    {
     "data": {
      "text/plain": [
       "'TU NOMBRE ES BLA Y TU APELLIDO BLE'"
      ]
     },
     "execution_count": 120,
     "metadata": {},
     "output_type": "execute_result"
    }
   ],
   "source": [
    "dimetunombre('bla', 'ble')"
   ]
  },
  {
   "cell_type": "code",
   "execution_count": 112,
   "id": "b08c1385-da07-414a-921c-e495d63fd847",
   "metadata": {
    "tags": []
   },
   "outputs": [
    {
     "data": {
      "text/plain": [
       "400.0"
      ]
     },
     "execution_count": 112,
     "metadata": {},
     "output_type": "execute_result"
    }
   ],
   "source": [
    "areatriangulo(a=20, b=40)"
   ]
  },
  {
   "cell_type": "code",
   "execution_count": 131,
   "id": "857faeb2-f3f6-4838-881f-9eb131e23648",
   "metadata": {
    "tags": []
   },
   "outputs": [
    {
     "name": "stdout",
     "output_type": "stream",
     "text": [
      "El dia 1 de la semana es lunes\n",
      "El dia 2 de la semana es miercoles\n",
      "El dia 3 de la semana es jueves\n",
      "El dia 4 de la semana es viernes\n",
      "El dia 5 de la semana es sabado\n",
      "El dia 6 de la semana es domingo\n",
      "El dia 7 de la semana es jueves\n"
     ]
    }
   ],
   "source": [
    "#vamos a ver los bucles en python\n",
    "#un bucle es un codigo que se repite hasta que se cumple una condicion dada\"\n",
    "#los bucles son de dos tipos, finitos e infinitos\n",
    "#los finitos van a terminar si o si, ya que conocemos el numero de iteraciones que tendra\n",
    "#el numero de iteraciones que tendra , utilizaremos el bucle for\n",
    "#los infinitos que puede que terminen o no(no terminan si no se cumple la cndicion)\n",
    "ite = 1\n",
    "for i in semana:\n",
    "    print('El dia '+ str(ite)+ \" de la semana es \" + str(i))\n",
    "    ite += 1"
   ]
  },
  {
   "cell_type": "code",
   "execution_count": 134,
   "id": "d6f6cdd0-e407-475b-9744-4206c65ededb",
   "metadata": {
    "tags": []
   },
   "outputs": [
    {
     "name": "stdout",
     "output_type": "stream",
     "text": [
      "el 1 mes es enero\n",
      "el 2 mes es febrero\n",
      "el 3 mes es marzo\n",
      "el 4 mes es abril\n",
      "el 5 mes es mayo\n",
      "el 6 mes es junio\n"
     ]
    }
   ],
   "source": [
    "#practica 1 mediante un bucle y una lista llamada semestre (que contendra los meses de enero a junio), ver un texto que ponga \"el 1 mes es enero\"\n",
    "#practica 2 mediante un bucle imprimir un letrero con los numeros del 0 al 20 que ponga el numero es x \n",
    "\n",
    "\n",
    "mes = 1\n",
    "semestre = ['enero', 'febrero', 'marzo', 'abril', 'mayo', 'junio']\n",
    "for i in semestre:\n",
    "    print('el '+ str(mes) + ' mes es ' + str(i))\n",
    "    mes += 1"
   ]
  },
  {
   "cell_type": "code",
   "execution_count": 138,
   "id": "029d9368-107b-4553-8746-d82a73f8ee00",
   "metadata": {
    "tags": []
   },
   "outputs": [
    {
     "name": "stdout",
     "output_type": "stream",
     "text": [
      "el numero es 1\n",
      "el numero es 2\n",
      "el numero es 3\n",
      "el numero es 4\n",
      "el numero es 5\n",
      "el numero es 6\n",
      "el numero es 7\n",
      "el numero es 8\n",
      "el numero es 9\n",
      "el numero es 10\n",
      "el numero es 11\n",
      "el numero es 12\n",
      "el numero es 13\n",
      "el numero es 14\n",
      "el numero es 15\n",
      "el numero es 16\n",
      "el numero es 17\n",
      "el numero es 18\n",
      "el numero es 19\n",
      "el numero es 20\n"
     ]
    }
   ],
   "source": [
    "numeros = [0,1,2,3,4,5,6,7,8,9,10,11,12,13,14,15,16,17,18,19,20] \n",
    "for i in range(20):\n",
    "    print ('el numero es ' + str(i+1))"
   ]
  },
  {
   "cell_type": "code",
   "execution_count": 139,
   "id": "32319b83-0b15-4a7a-bf85-6ea7234c8d3b",
   "metadata": {
    "tags": []
   },
   "outputs": [],
   "source": [
    "#estructura de decision if, analiza una condicion, y si se cumple ejecuta una parte verdadera, que significa analizar una condicion, comparar 2 valores mediante un operador de comparacion (siempre devolvera true or false)\n",
    "#> mayor que 5>4 = verdadero\n",
    "#<menor que 5<7 = verdadero\n",
    "#>= mayor igual\n",
    "#<= menor o igual\n",
    "# == estrictamente igual \n",
    "# != distinto o diferente\n"
   ]
  },
  {
   "cell_type": "code",
   "execution_count": 142,
   "id": "b5676d26-1e2b-49f5-b429-3c71a8337caa",
   "metadata": {
    "tags": []
   },
   "outputs": [
    {
     "name": "stdout",
     "output_type": "stream",
     "text": [
      "en activo\n"
     ]
    }
   ],
   "source": [
    "edad =40\n",
    "if edad < 65:\n",
    "    print(\"en activo\")"
   ]
  },
  {
   "cell_type": "code",
   "execution_count": null,
   "id": "9de2d590-b5b2-409d-8f03-c2b0c0a438a4",
   "metadata": {},
   "outputs": [],
   "source": []
  }
 ],
 "metadata": {
  "kernelspec": {
   "display_name": "Python 3 (ipykernel)",
   "language": "python",
   "name": "python3"
  },
  "language_info": {
   "codemirror_mode": {
    "name": "ipython",
    "version": 3
   },
   "file_extension": ".py",
   "mimetype": "text/x-python",
   "name": "python",
   "nbconvert_exporter": "python",
   "pygments_lexer": "ipython3",
   "version": "3.11.2"
  }
 },
 "nbformat": 4,
 "nbformat_minor": 5
}
