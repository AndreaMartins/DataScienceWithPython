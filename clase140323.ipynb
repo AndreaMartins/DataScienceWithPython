{
 "cells": [
  {
   "cell_type": "code",
   "execution_count": 3,
   "id": "ee5a7be9-b7e4-4c7e-8b96-48c3f0fe6bdf",
   "metadata": {
    "tags": []
   },
   "outputs": [
    {
     "name": "stdout",
     "output_type": "stream",
     "text": [
      "Edad mayor de 50\n"
     ]
    }
   ],
   "source": [
    "edad = 55 \n",
    "if edad < 50:\n",
    "    print(\"Edad menor de 50\")\n",
    "else:\n",
    "    print(\"Edad mayor de 50\")"
   ]
  },
  {
   "cell_type": "code",
   "execution_count": 5,
   "id": "0b959aa7-b086-4cac-9c10-e0d015baf28f",
   "metadata": {
    "tags": []
   },
   "outputs": [
    {
     "name": "stdout",
     "output_type": "stream",
     "text": [
      "Edad entre 30 y 60\n"
     ]
    }
   ],
   "source": [
    "#para tener mas de 2 opciones de devolucion, voy a usar el elif\n",
    "if edad < 30:\n",
    "    print(\"Edad entre 0 y 30\")\n",
    "elif edad < 60:\n",
    "    print(\"Edad entre 30 y 60\")\n",
    "elif edad < 90:\n",
    "    print(\"Edad mayor o igual a 60\")\n",
    "else:\n",
    "    print(\"mas de 90\")\n",
    "\n",
    "        "
   ]
  },
  {
   "cell_type": "code",
   "execution_count": 6,
   "id": "e59e6a31-2b5b-4d8c-bf85-6b9131d5c949",
   "metadata": {
    "tags": []
   },
   "outputs": [],
   "source": [
    "#mediante una funcion personalizada , que nos devuelva el pack de compra\n",
    "#segun los valores de una lista de importe de ventas\n",
    "#lista tnedr 24,35,62,18,71,95,114,44\n",
    "#los packs van en multiplo de 30\n",
    "#de manera que cuando venga el numero 24 me tendra que devolver un texto que ponga\n",
    "#24 es el pack de 30, pongo 35 es el pack de 60, etc.."
   ]
  },
  {
   "cell_type": "code",
   "execution_count": 18,
   "id": "29c9a686-5a24-41ed-b2bf-44b5aa9f5f3d",
   "metadata": {
    "tags": []
   },
   "outputs": [],
   "source": [
    "cantidad=[24,35,62,18,71,95,114,44]\n",
    "#funcion que devuelva el pack\n",
    "def pack(x):\n",
    "    for i in x:\n",
    "        if i <= 30:\n",
    "            print(\"el \" +str(i) + \" es el pack de 30\")\n",
    "        elif i <=60:\n",
    "            print(\"el \" +str(i) + \" es el pack de 60\")\n",
    "        elif i <= 90:\n",
    "            print(\"el \" +str(i) + \" es el pack de 90\")\n",
    "        elif i <=120:\n",
    "            print(\"el \" +str(i) + \" es el pack de 120\")\n",
    "        else:\n",
    "            print(\"es mayor que el pack de 120\")"
   ]
  },
  {
   "cell_type": "code",
   "execution_count": 19,
   "id": "201eb140-b4b5-4718-b785-5eec650225c6",
   "metadata": {
    "tags": []
   },
   "outputs": [
    {
     "name": "stdout",
     "output_type": "stream",
     "text": [
      "el 24 es el pack de 30\n",
      "el 35 es el pack de 60\n",
      "el 62 es el pack de 90\n",
      "el 18 es el pack de 30\n",
      "el 71 es el pack de 90\n",
      "el 95 es el pack de 120\n",
      "el 114 es el pack de 120\n",
      "el 44 es el pack de 60\n"
     ]
    }
   ],
   "source": [
    "pack (cantidad)"
   ]
  },
  {
   "cell_type": "code",
   "execution_count": 69,
   "id": "ed6d68c8-0dab-440a-b9cc-bb21130b2025",
   "metadata": {
    "tags": []
   },
   "outputs": [],
   "source": [
    "#TENDRE UNA LISTA CON LAS SIGUIENTES EDADES\n",
    "\n",
    "#averiguar cuantas edades hay por franjas de multiplo 10\n",
    "#necesitaria una variable por franja de edad que me acumule la cntidad de personas\n",
    "#tengo 0 personas entre 0-10\n",
    "#tengo 2 personas entre 10 -20\n",
    "#tengo 2 personas entre 20-30\n",
    "\n",
    "edades=[8,18,35,44,62,21,14,57,66,73,46,11,28,37,38,53,62]\n",
    "franjas=[0,0,0,0,0,0,0,0]\n",
    "texto =[]\n",
    "a=0\n",
    "b=0\n",
    "c=0\n",
    "d=0\n",
    "e=0\n",
    "f=0\n",
    "g=0\n",
    "h=0\n",
    "\n",
    "for x in edades:\n",
    "    if x <= 10:\n",
    "        frnajas[0]\n",
    "    elif x <= 20:\n",
    "        b+=1\n",
    "    elif x <= 30:\n",
    "        c+=1\n",
    "    elif x <= 40:\n",
    "        d+=1\n",
    "    elif x <= 50:\n",
    "        e+=1\n",
    "    elif x <= 60:\n",
    "        f+=1\n",
    "    elif x <= 70:\n",
    "        g+=1\n",
    "    elif x <= 80:\n",
    "        h+=1    \n",
    "    else:\n",
    "        print(\"es mayor que el pack de 80\")\n"
   ]
  },
  {
   "cell_type": "code",
   "execution_count": 70,
   "id": "ee737245-77cc-485f-941f-d8be163e1300",
   "metadata": {
    "tags": []
   },
   "outputs": [
    {
     "name": "stdout",
     "output_type": "stream",
     "text": [
      "entre 0-10 1\n",
      "entre 0-20 3\n",
      "entre 0-30 2\n",
      "entre 0-40 3\n",
      "entre 0-50 2\n",
      "entre 0-60 2\n",
      "entre 0-70 3\n",
      "entre 0-80 1\n"
     ]
    }
   ],
   "source": [
    "print( \"entre 0-10 \" + str(a))\n",
    "print( \"entre 0-20 \" + str(b))\n",
    "print( \"entre 0-30 \" + str(c))\n",
    "print( \"entre 0-40 \" + str(d))\n",
    "print( \"entre 0-50 \" + str(e))\n",
    "print( \"entre 0-60 \" + str(f))\n",
    "print( \"entre 0-70 \" + str(g))\n",
    "print( \"entre 0-80 \" + str(h))"
   ]
  },
  {
   "cell_type": "code",
   "execution_count": 72,
   "id": "998b4efd-e91b-4501-8110-cc93b60d394d",
   "metadata": {
    "tags": []
   },
   "outputs": [
    {
     "name": "stdout",
     "output_type": "stream",
     "text": [
      "D\n",
      "o\n",
      "m\n",
      "i\n",
      "g\n",
      "o\n"
     ]
    }
   ],
   "source": [
    "#en un bucle for trabajar con break y con continue\n",
    "#break sale del bucle\n",
    "#continue salta una iteracion\n",
    "for i in 'Domingo':\n",
    "    if i =='n':\n",
    "        continue\n",
    "    print(i)"
   ]
  },
  {
   "cell_type": "code",
   "execution_count": 76,
   "id": "60f9c03d-0977-4db0-826e-dc00c31a3248",
   "metadata": {
    "tags": []
   },
   "outputs": [
    {
     "name": "stdout",
     "output_type": "stream",
     "text": [
      "enero\n",
      "febrero\n",
      "marzo\n",
      "abril\n"
     ]
    }
   ],
   "source": [
    "#parctica: una lista llamada meses enero -junio\n",
    "#imprimir el mes hasta mayo\n",
    "\n",
    "meses=['enero', 'febrero', 'marzo', 'abril', 'mayo', 'junio']\n",
    "\n",
    "for i in meses:\n",
    "    if i == 'mayo':\n",
    "        break\n",
    "    print(i)\n",
    "\n",
    "#practica: imprimir por separado las letras de la palabra\n",
    "#supercaligragilisticoespialidoso, menos las a\n"
   ]
  },
  {
   "cell_type": "code",
   "execution_count": 79,
   "id": "a566b417-346e-4ed8-b19c-c196e8f85994",
   "metadata": {
    "tags": []
   },
   "outputs": [
    {
     "name": "stdout",
     "output_type": "stream",
     "text": [
      "s\n",
      "u\n",
      "p\n",
      "e\n",
      "r\n",
      "c\n",
      "l\n",
      "i\n",
      "g\n",
      "r\n",
      "g\n",
      "i\n",
      "l\n",
      "i\n",
      "s\n",
      "t\n",
      "i\n",
      "c\n",
      "o\n",
      "e\n",
      "s\n",
      "p\n",
      "i\n",
      "l\n",
      "i\n",
      "d\n",
      "o\n",
      "s\n",
      "o\n"
     ]
    }
   ],
   "source": [
    "for i in 'supercaligragilisticoespialidoso':\n",
    "        if i =='a':\n",
    "            continue\n",
    "        print(i)"
   ]
  },
  {
   "cell_type": "code",
   "execution_count": 81,
   "id": "5170ad55-cef4-4a98-b37e-2cf76c8617d5",
   "metadata": {
    "tags": []
   },
   "outputs": [
    {
     "name": "stdout",
     "output_type": "stream",
     "text": [
      "0        lunes\n",
      "1       martes\n",
      "2    miercoles\n",
      "3       jueves\n",
      "dtype: string\n"
     ]
    }
   ],
   "source": [
    "#vamos a ver las librerias de python\n",
    "#para trabajar con la libreria 2 pasos , primero instalar\n",
    "#segundo llamar\n",
    "#pip install pandas\n",
    "#pandas es una libreria enfocad a datos cientificos , con ella se pueden\n",
    "#manipular datos, cuando se instala pandas tambien se instala numpy, pytz\n",
    "#para trabajar con pandas, disponemos de 3 objetos\n",
    "#son las series, son estructuras de 1 dimension(acompanadas de un indice)\n",
    "#los DataFrame, son estructuras de 2 dimensiones (una tabla de BBDD)\n",
    "#Los paneles, son estructuras de 3 dimensiones (cubos)\n",
    "#como llamar a una libreria en Python, con la palabra import\n",
    "import pandas as pd\n",
    "#vamos a crear una serie con valores manuales, las series son homogeneas\n",
    "#que contienen el mismo tipo de datos\n",
    "serie = pd.Series(['lunes','martes', 'miercoles','jueves'],dtype='string')\n",
    "print(serie)"
   ]
  },
  {
   "cell_type": "code",
   "execution_count": 83,
   "id": "da01611c-dd8f-4789-8663-fac1b2656a4d",
   "metadata": {
    "tags": []
   },
   "outputs": [
    {
     "data": {
      "text/plain": [
       "'lunes'"
      ]
     },
     "execution_count": 83,
     "metadata": {},
     "output_type": "execute_result"
    }
   ],
   "source": [
    "serie[0]"
   ]
  },
  {
   "cell_type": "code",
   "execution_count": 84,
   "id": "8ac0eff2-5663-480b-9fd3-2692b9808c87",
   "metadata": {
    "tags": []
   },
   "outputs": [
    {
     "data": {
      "text/plain": [
       "'miercoles'"
      ]
     },
     "execution_count": 84,
     "metadata": {},
     "output_type": "execute_result"
    }
   ],
   "source": [
    "serie[2]"
   ]
  },
  {
   "cell_type": "code",
   "execution_count": 85,
   "id": "f2905b87-a2dc-4708-aeb4-13a2249f0215",
   "metadata": {
    "tags": []
   },
   "outputs": [],
   "source": [
    "#podemos acceder a la serie de elementos con su indice"
   ]
  },
  {
   "cell_type": "code",
   "execution_count": 87,
   "id": "0e028c97-11f2-4cce-9560-be5be2a7555b",
   "metadata": {
    "tags": []
   },
   "outputs": [
    {
     "data": {
      "text/plain": [
       "0     75.00\n",
       "1    241.35\n",
       "2    687.00\n",
       "3    187.56\n",
       "4    158.00\n",
       "5    900.00\n",
       "dtype: float64"
      ]
     },
     "execution_count": 87,
     "metadata": {},
     "output_type": "execute_result"
    }
   ],
   "source": [
    "#vamos a cargar una serie a partir de una lista\n",
    "numeros =[75,241.35,687,187.56, 158,900]\n",
    "serie_numeros = pd.Series(data=numeros)\n",
    "serie_numeros"
   ]
  },
  {
   "cell_type": "code",
   "execution_count": 88,
   "id": "e198618e-3b2f-4a21-aded-29a16c68af59",
   "metadata": {
    "tags": []
   },
   "outputs": [
    {
     "data": {
      "text/plain": [
       "6"
      ]
     },
     "execution_count": 88,
     "metadata": {},
     "output_type": "execute_result"
    }
   ],
   "source": [
    "#resumenes estadisticos de una serie, el numero de elementos\n",
    "#de la serie con count\n",
    "serie_numeros.count()"
   ]
  },
  {
   "cell_type": "code",
   "execution_count": 89,
   "id": "f5b81485-5753-4f52-b229-8cfdb1899682",
   "metadata": {
    "tags": []
   },
   "outputs": [
    {
     "data": {
      "text/plain": [
       "2248.91"
      ]
     },
     "execution_count": 89,
     "metadata": {},
     "output_type": "execute_result"
    }
   ],
   "source": [
    "#como sumar todos los elemetos con sum()\n",
    "serie_numeros.sum()"
   ]
  },
  {
   "cell_type": "code",
   "execution_count": 90,
   "id": "74039955-7c02-473e-b4a0-f280feed3bda",
   "metadata": {
    "tags": []
   },
   "outputs": [
    {
     "data": {
      "text/plain": [
       "0      75.00\n",
       "1     316.35\n",
       "2    1003.35\n",
       "3    1190.91\n",
       "4    1348.91\n",
       "5    2248.91\n",
       "dtype: float64"
      ]
     },
     "execution_count": 90,
     "metadata": {},
     "output_type": "execute_result"
    }
   ],
   "source": [
    "#como ver la suma acumulada con cumsum()\n",
    "serie_numeros.cumsum()"
   ]
  },
  {
   "cell_type": "code",
   "execution_count": 91,
   "id": "83453068-23c4-4616-8463-9771d1c965f2",
   "metadata": {
    "tags": []
   },
   "outputs": [
    {
     "name": "stdout",
     "output_type": "stream",
     "text": [
      "900.0\n",
      "75.0\n",
      "374.8183333333333\n"
     ]
    }
   ],
   "source": [
    "#vamos a ver el valor mas grande, el valor mas pequeno\n",
    "#y el promedio\n",
    "print(serie_numeros.max()) #+grande\n",
    "print(serie_numeros.min()) #+pequeno\n",
    "print(serie_numeros.mean()) #el promedio"
   ]
  },
  {
   "cell_type": "code",
   "execution_count": 92,
   "id": "adb2a2a4-6ada-4627-8589-94bced620f39",
   "metadata": {
    "tags": []
   },
   "outputs": [
    {
     "name": "stdout",
     "output_type": "stream",
     "text": [
      "112610.77561666665\n"
     ]
    }
   ],
   "source": [
    "#vamos a ver como calcular la varianza\n",
    "print(serie_numeros.var())"
   ]
  },
  {
   "cell_type": "code",
   "execution_count": 93,
   "id": "b8e685a7-e0de-4a2d-8037-38383a16e637",
   "metadata": {
    "tags": []
   },
   "outputs": [
    {
     "name": "stdout",
     "output_type": "stream",
     "text": [
      "335.57529053353534\n"
     ]
    }
   ],
   "source": [
    "#vamos a calcular la desviacion tipica\n",
    "print(serie_numeros.std())"
   ]
  },
  {
   "cell_type": "code",
   "execution_count": 94,
   "id": "4457b99a-06ad-451b-a481-dca7cfdb47ea",
   "metadata": {
    "tags": []
   },
   "outputs": [
    {
     "data": {
      "text/plain": [
       "count      6.000000\n",
       "mean     374.818333\n",
       "std      335.575291\n",
       "min       75.000000\n",
       "25%      165.390000\n",
       "50%      214.455000\n",
       "75%      575.587500\n",
       "max      900.000000\n",
       "dtype: float64"
      ]
     },
     "execution_count": 94,
     "metadata": {},
     "output_type": "execute_result"
    }
   ],
   "source": [
    "#como ver un resumen estadistico comn describe()\n",
    "serie_numeros.describe()"
   ]
  },
  {
   "cell_type": "code",
   "execution_count": 95,
   "id": "7ffe6035-f563-4eb7-b6c1-cfbc2bbd221e",
   "metadata": {
    "tags": []
   },
   "outputs": [
    {
     "data": {
      "text/plain": [
       "0     85.00\n",
       "1    251.35\n",
       "2    697.00\n",
       "3    197.56\n",
       "4    168.00\n",
       "5    910.00\n",
       "dtype: float64"
      ]
     },
     "execution_count": 95,
     "metadata": {},
     "output_type": "execute_result"
    }
   ],
   "source": [
    "#aplicar una operacion ARITMETICA A UNA SERIE\n",
    "serie_numeros +10"
   ]
  },
  {
   "cell_type": "code",
   "execution_count": 96,
   "id": "1114567a-461f-4e4c-a437-35695fc31d63",
   "metadata": {
    "tags": []
   },
   "outputs": [
    {
     "data": {
      "text/plain": [
       "0     225.00\n",
       "1     724.05\n",
       "2    2061.00\n",
       "3     562.68\n",
       "4     474.00\n",
       "5    2700.00\n",
       "dtype: float64"
      ]
     },
     "execution_count": 96,
     "metadata": {},
     "output_type": "execute_result"
    }
   ],
   "source": [
    "serie_numeros*3"
   ]
  },
  {
   "cell_type": "code",
   "execution_count": 100,
   "id": "b5c15bc0-5902-492f-8d3e-79aa375d966f",
   "metadata": {
    "tags": []
   },
   "outputs": [
    {
     "data": {
      "text/plain": [
       "0     75.00\n",
       "1    158.00\n",
       "2    187.56\n",
       "3    241.35\n",
       "4    687.00\n",
       "5    900.00\n",
       "dtype: float64"
      ]
     },
     "execution_count": 100,
     "metadata": {},
     "output_type": "execute_result"
    }
   ],
   "source": [
    "#como ordenar una serie, con sort values\n",
    "#o ascending = False, con ignore_index = True\n",
    "serie_numeros.sort_values(ascending = True, ignore_index=True)"
   ]
  },
  {
   "cell_type": "code",
   "execution_count": 102,
   "id": "8ec4f169-3141-462f-89e1-00fc8fcc6b14",
   "metadata": {
    "tags": []
   },
   "outputs": [
    {
     "data": {
      "text/html": [
       "<div>\n",
       "<style scoped>\n",
       "    .dataframe tbody tr th:only-of-type {\n",
       "        vertical-align: middle;\n",
       "    }\n",
       "\n",
       "    .dataframe tbody tr th {\n",
       "        vertical-align: top;\n",
       "    }\n",
       "\n",
       "    .dataframe thead th {\n",
       "        text-align: right;\n",
       "    }\n",
       "</style>\n",
       "<table border=\"1\" class=\"dataframe\">\n",
       "  <thead>\n",
       "    <tr style=\"text-align: right;\">\n",
       "      <th></th>\n",
       "      <th>Nombre</th>\n",
       "      <th>Edad</th>\n",
       "      <th>Estatura</th>\n",
       "    </tr>\n",
       "  </thead>\n",
       "  <tbody>\n",
       "    <tr>\n",
       "      <th>0</th>\n",
       "      <td>Pedro</td>\n",
       "      <td>25</td>\n",
       "      <td>1.80</td>\n",
       "    </tr>\n",
       "    <tr>\n",
       "      <th>1</th>\n",
       "      <td>Marina</td>\n",
       "      <td>20</td>\n",
       "      <td>1.70</td>\n",
       "    </tr>\n",
       "    <tr>\n",
       "      <th>2</th>\n",
       "      <td>Luis</td>\n",
       "      <td>44</td>\n",
       "      <td>1.67</td>\n",
       "    </tr>\n",
       "    <tr>\n",
       "      <th>3</th>\n",
       "      <td>Marta</td>\n",
       "      <td>53</td>\n",
       "      <td>1.76</td>\n",
       "    </tr>\n",
       "  </tbody>\n",
       "</table>\n",
       "</div>"
      ],
      "text/plain": [
       "   Nombre  Edad  Estatura\n",
       "0   Pedro    25      1.80\n",
       "1  Marina    20      1.70\n",
       "2    Luis    44      1.67\n",
       "3   Marta    53      1.76"
      ]
     },
     "execution_count": 102,
     "metadata": {},
     "output_type": "execute_result"
    }
   ],
   "source": [
    "#Estructuras de 2 dimensiones DataFrame, primero de manera manual\n",
    "import pandas as pd\n",
    "df = pd.DataFrame([{'Nombre':'Pedro', 'Edad':25, 'Estatura':1.80},\n",
    "                    {'Nombre':'Marina', 'Edad':20, 'Estatura':1.70},\n",
    "                    {'Nombre':'Luis', 'Edad':44, 'Estatura':1.67},\n",
    "                    {'Nombre':'Marta', 'Edad':53, 'Estatura':1.76}])\n",
    "df"
   ]
  },
  {
   "cell_type": "code",
   "execution_count": 103,
   "id": "a99c23d7-bbd5-4db5-8b61-2de74c14b81b",
   "metadata": {
    "tags": []
   },
   "outputs": [
    {
     "name": "stdout",
     "output_type": "stream",
     "text": [
      "<class 'pandas.core.frame.DataFrame'>\n",
      "RangeIndex: 4 entries, 0 to 3\n",
      "Data columns (total 3 columns):\n",
      " #   Column    Non-Null Count  Dtype  \n",
      "---  ------    --------------  -----  \n",
      " 0   Nombre    4 non-null      object \n",
      " 1   Edad      4 non-null      int64  \n",
      " 2   Estatura  4 non-null      float64\n",
      "dtypes: float64(1), int64(1), object(1)\n",
      "memory usage: 228.0+ bytes\n"
     ]
    }
   ],
   "source": [
    "#como ver la estructura \n",
    "df.info()"
   ]
  },
  {
   "cell_type": "code",
   "execution_count": 105,
   "id": "2d67df71-717c-4cdb-aee9-3b4f542042ae",
   "metadata": {
    "tags": []
   },
   "outputs": [
    {
     "data": {
      "text/html": [
       "<div>\n",
       "<style scoped>\n",
       "    .dataframe tbody tr th:only-of-type {\n",
       "        vertical-align: middle;\n",
       "    }\n",
       "\n",
       "    .dataframe tbody tr th {\n",
       "        vertical-align: top;\n",
       "    }\n",
       "\n",
       "    .dataframe thead th {\n",
       "        text-align: right;\n",
       "    }\n",
       "</style>\n",
       "<table border=\"1\" class=\"dataframe\">\n",
       "  <thead>\n",
       "    <tr style=\"text-align: right;\">\n",
       "      <th></th>\n",
       "      <th>Nombre</th>\n",
       "      <th>Edad</th>\n",
       "      <th>Estatura</th>\n",
       "    </tr>\n",
       "  </thead>\n",
       "  <tbody>\n",
       "    <tr>\n",
       "      <th>0</th>\n",
       "      <td>Pedro</td>\n",
       "      <td>25</td>\n",
       "      <td>1.80</td>\n",
       "    </tr>\n",
       "    <tr>\n",
       "      <th>1</th>\n",
       "      <td>Marina</td>\n",
       "      <td>20</td>\n",
       "      <td>1.70</td>\n",
       "    </tr>\n",
       "    <tr>\n",
       "      <th>2</th>\n",
       "      <td>Luis</td>\n",
       "      <td>44</td>\n",
       "      <td>1.67</td>\n",
       "    </tr>\n",
       "  </tbody>\n",
       "</table>\n",
       "</div>"
      ],
      "text/plain": [
       "   Nombre  Edad  Estatura\n",
       "0   Pedro    25      1.80\n",
       "1  Marina    20      1.70\n",
       "2    Luis    44      1.67"
      ]
     },
     "execution_count": 105,
     "metadata": {},
     "output_type": "execute_result"
    }
   ],
   "source": [
    "#como ver los primeros n registro de un DataFrame\n",
    "df.head(3)"
   ]
  },
  {
   "cell_type": "code",
   "execution_count": 106,
   "id": "4a3fc282-e8d6-46c2-847b-548993481138",
   "metadata": {
    "tags": []
   },
   "outputs": [
    {
     "data": {
      "text/html": [
       "<div>\n",
       "<style scoped>\n",
       "    .dataframe tbody tr th:only-of-type {\n",
       "        vertical-align: middle;\n",
       "    }\n",
       "\n",
       "    .dataframe tbody tr th {\n",
       "        vertical-align: top;\n",
       "    }\n",
       "\n",
       "    .dataframe thead th {\n",
       "        text-align: right;\n",
       "    }\n",
       "</style>\n",
       "<table border=\"1\" class=\"dataframe\">\n",
       "  <thead>\n",
       "    <tr style=\"text-align: right;\">\n",
       "      <th></th>\n",
       "      <th>Nombre</th>\n",
       "      <th>Edad</th>\n",
       "      <th>Estatura</th>\n",
       "    </tr>\n",
       "  </thead>\n",
       "  <tbody>\n",
       "    <tr>\n",
       "      <th>2</th>\n",
       "      <td>Luis</td>\n",
       "      <td>44</td>\n",
       "      <td>1.67</td>\n",
       "    </tr>\n",
       "    <tr>\n",
       "      <th>3</th>\n",
       "      <td>Marta</td>\n",
       "      <td>53</td>\n",
       "      <td>1.76</td>\n",
       "    </tr>\n",
       "  </tbody>\n",
       "</table>\n",
       "</div>"
      ],
      "text/plain": [
       "  Nombre  Edad  Estatura\n",
       "2   Luis    44      1.67\n",
       "3  Marta    53      1.76"
      ]
     },
     "execution_count": 106,
     "metadata": {},
     "output_type": "execute_result"
    }
   ],
   "source": [
    "#como ver los ultimos n registros de un dataFrame\n",
    "df.tail(2)"
   ]
  },
  {
   "cell_type": "code",
   "execution_count": 110,
   "id": "ea44e2be-4a68-4f0d-9a96-63b0864d3ffb",
   "metadata": {
    "tags": []
   },
   "outputs": [
    {
     "data": {
      "text/plain": [
       "0     Pedro\n",
       "1    Marina\n",
       "2      Luis\n",
       "3     Marta\n",
       "Name: Nombre, dtype: object"
      ]
     },
     "execution_count": 110,
     "metadata": {},
     "output_type": "execute_result"
    }
   ],
   "source": [
    "#como ver solamente los registros de un campo y poder trabajar con ellos\n",
    "df['Nombre']"
   ]
  },
  {
   "cell_type": "code",
   "execution_count": 111,
   "id": "1ef91c89-ad5e-4c49-ad74-0e192b64addc",
   "metadata": {
    "tags": []
   },
   "outputs": [
    {
     "data": {
      "text/plain": [
       "142"
      ]
     },
     "execution_count": 111,
     "metadata": {},
     "output_type": "execute_result"
    }
   ],
   "source": [
    "df['Edad'].sum()"
   ]
  },
  {
   "cell_type": "code",
   "execution_count": 113,
   "id": "5a689134-a53f-4a7b-bcab-5e374190293d",
   "metadata": {
    "tags": []
   },
   "outputs": [
    {
     "data": {
      "text/plain": [
       "35.5"
      ]
     },
     "execution_count": 113,
     "metadata": {},
     "output_type": "execute_result"
    }
   ],
   "source": [
    "#el promedio de las edades\n",
    "df['Edad'].mean()"
   ]
  },
  {
   "cell_type": "code",
   "execution_count": 115,
   "id": "0cab3316-cc73-4fce-ad32-e20ce8fc03fd",
   "metadata": {
    "tags": []
   },
   "outputs": [
    {
     "data": {
      "text/plain": [
       "53"
      ]
     },
     "execution_count": 115,
     "metadata": {},
     "output_type": "execute_result"
    }
   ],
   "source": [
    "#el promedio de las edades\n",
    "df['Edad'].max()"
   ]
  },
  {
   "cell_type": "code",
   "execution_count": 120,
   "id": "d11d19d2-6e3b-4e12-96e6-0db90914ebcc",
   "metadata": {
    "tags": []
   },
   "outputs": [
    {
     "data": {
      "text/html": [
       "<div>\n",
       "<style scoped>\n",
       "    .dataframe tbody tr th:only-of-type {\n",
       "        vertical-align: middle;\n",
       "    }\n",
       "\n",
       "    .dataframe tbody tr th {\n",
       "        vertical-align: top;\n",
       "    }\n",
       "\n",
       "    .dataframe thead th {\n",
       "        text-align: right;\n",
       "    }\n",
       "</style>\n",
       "<table border=\"1\" class=\"dataframe\">\n",
       "  <thead>\n",
       "    <tr style=\"text-align: right;\">\n",
       "      <th></th>\n",
       "      <th>Nombre</th>\n",
       "      <th>Edad</th>\n",
       "      <th>Estatura</th>\n",
       "      <th>Localidad</th>\n",
       "    </tr>\n",
       "  </thead>\n",
       "  <tbody>\n",
       "    <tr>\n",
       "      <th>0</th>\n",
       "      <td>Pedro</td>\n",
       "      <td>25</td>\n",
       "      <td>1.80</td>\n",
       "      <td>Barcelona</td>\n",
       "    </tr>\n",
       "    <tr>\n",
       "      <th>1</th>\n",
       "      <td>Marina</td>\n",
       "      <td>20</td>\n",
       "      <td>1.70</td>\n",
       "      <td>Barcelona</td>\n",
       "    </tr>\n",
       "    <tr>\n",
       "      <th>2</th>\n",
       "      <td>Luis</td>\n",
       "      <td>44</td>\n",
       "      <td>1.67</td>\n",
       "      <td>Barcelona</td>\n",
       "    </tr>\n",
       "    <tr>\n",
       "      <th>3</th>\n",
       "      <td>Marta</td>\n",
       "      <td>53</td>\n",
       "      <td>1.76</td>\n",
       "      <td>Barcelona</td>\n",
       "    </tr>\n",
       "  </tbody>\n",
       "</table>\n",
       "</div>"
      ],
      "text/plain": [
       "   Nombre  Edad  Estatura  Localidad\n",
       "0   Pedro    25      1.80  Barcelona\n",
       "1  Marina    20      1.70  Barcelona\n",
       "2    Luis    44      1.67  Barcelona\n",
       "3   Marta    53      1.76  Barcelona"
      ]
     },
     "execution_count": 120,
     "metadata": {},
     "output_type": "execute_result"
    }
   ],
   "source": [
    "#como anadir un columna a dataframe\n",
    "#opcion a , valor unico puesto de manera manual\n",
    "df['Localidad'] = 'Barcelona'\n",
    "df"
   ]
  },
  {
   "cell_type": "code",
   "execution_count": 123,
   "id": "fb3be819-ba7d-4a80-a5e0-8addb5f2a047",
   "metadata": {
    "tags": []
   },
   "outputs": [
    {
     "data": {
      "text/html": [
       "<div>\n",
       "<style scoped>\n",
       "    .dataframe tbody tr th:only-of-type {\n",
       "        vertical-align: middle;\n",
       "    }\n",
       "\n",
       "    .dataframe tbody tr th {\n",
       "        vertical-align: top;\n",
       "    }\n",
       "\n",
       "    .dataframe thead th {\n",
       "        text-align: right;\n",
       "    }\n",
       "</style>\n",
       "<table border=\"1\" class=\"dataframe\">\n",
       "  <thead>\n",
       "    <tr style=\"text-align: right;\">\n",
       "      <th></th>\n",
       "      <th>Nombre</th>\n",
       "      <th>Edad</th>\n",
       "      <th>Estatura</th>\n",
       "      <th>Localidad</th>\n",
       "      <th>Edad2</th>\n",
       "    </tr>\n",
       "  </thead>\n",
       "  <tbody>\n",
       "    <tr>\n",
       "      <th>0</th>\n",
       "      <td>Pedro</td>\n",
       "      <td>20</td>\n",
       "      <td>1.80</td>\n",
       "      <td>Barcelona</td>\n",
       "      <td>15</td>\n",
       "    </tr>\n",
       "    <tr>\n",
       "      <th>1</th>\n",
       "      <td>Marina</td>\n",
       "      <td>15</td>\n",
       "      <td>1.70</td>\n",
       "      <td>Barcelona</td>\n",
       "      <td>10</td>\n",
       "    </tr>\n",
       "    <tr>\n",
       "      <th>2</th>\n",
       "      <td>Luis</td>\n",
       "      <td>39</td>\n",
       "      <td>1.67</td>\n",
       "      <td>Barcelona</td>\n",
       "      <td>34</td>\n",
       "    </tr>\n",
       "    <tr>\n",
       "      <th>3</th>\n",
       "      <td>Marta</td>\n",
       "      <td>48</td>\n",
       "      <td>1.76</td>\n",
       "      <td>Barcelona</td>\n",
       "      <td>43</td>\n",
       "    </tr>\n",
       "  </tbody>\n",
       "</table>\n",
       "</div>"
      ],
      "text/plain": [
       "   Nombre  Edad  Estatura  Localidad  Edad2\n",
       "0   Pedro    20      1.80  Barcelona     15\n",
       "1  Marina    15      1.70  Barcelona     10\n",
       "2    Luis    39      1.67  Barcelona     34\n",
       "3   Marta    48      1.76  Barcelona     43"
      ]
     },
     "execution_count": 123,
     "metadata": {},
     "output_type": "execute_result"
    }
   ],
   "source": [
    "#opcion b, haciendo un calculo con una columna o campo existente\n",
    "df['Edad2'] = df['Edad'] -5\n",
    "df"
   ]
  },
  {
   "cell_type": "code",
   "execution_count": 125,
   "id": "ab6e939b-150c-4b00-af19-708178f030e1",
   "metadata": {
    "tags": []
   },
   "outputs": [
    {
     "data": {
      "text/html": [
       "<div>\n",
       "<style scoped>\n",
       "    .dataframe tbody tr th:only-of-type {\n",
       "        vertical-align: middle;\n",
       "    }\n",
       "\n",
       "    .dataframe tbody tr th {\n",
       "        vertical-align: top;\n",
       "    }\n",
       "\n",
       "    .dataframe thead th {\n",
       "        text-align: right;\n",
       "    }\n",
       "</style>\n",
       "<table border=\"1\" class=\"dataframe\">\n",
       "  <thead>\n",
       "    <tr style=\"text-align: right;\">\n",
       "      <th></th>\n",
       "      <th>Cliente</th>\n",
       "      <th>Ventas</th>\n",
       "    </tr>\n",
       "  </thead>\n",
       "  <tbody>\n",
       "    <tr>\n",
       "      <th>0</th>\n",
       "      <td>cliente1</td>\n",
       "      <td>2800</td>\n",
       "    </tr>\n",
       "    <tr>\n",
       "      <th>1</th>\n",
       "      <td>cliente2</td>\n",
       "      <td>3450</td>\n",
       "    </tr>\n",
       "    <tr>\n",
       "      <th>2</th>\n",
       "      <td>cliente3</td>\n",
       "      <td>1870</td>\n",
       "    </tr>\n",
       "    <tr>\n",
       "      <th>3</th>\n",
       "      <td>cliente4</td>\n",
       "      <td>2458</td>\n",
       "    </tr>\n",
       "    <tr>\n",
       "      <th>4</th>\n",
       "      <td>cliente5</td>\n",
       "      <td>6053</td>\n",
       "    </tr>\n",
       "  </tbody>\n",
       "</table>\n",
       "</div>"
      ],
      "text/plain": [
       "    Cliente  Ventas\n",
       "0  cliente1    2800\n",
       "1  cliente2    3450\n",
       "2  cliente3    1870\n",
       "3  cliente4    2458\n",
       "4  cliente5    6053"
      ]
     },
     "execution_count": 125,
     "metadata": {},
     "output_type": "execute_result"
    }
   ],
   "source": [
    "#practica, crear un data frame con los siguientes datos\n",
    "#cliente = cliente1, ventas = 2800\n",
    "#cliente = cliente2, ventas = 3450\n",
    "#cliente = cliente3, ventas = 1870\n",
    "#cliente = cliente4, ventas = 2458\n",
    "#cliente = cliente5, ventas = 6053\n",
    "#crear una columna nueva que contenga el 3% sobre las ventas (0.03)\n",
    "#crear una columna nueva que contenga las ventas neto(ventas-descuento)\n",
    "#averiguar el vaklor mas alto de ventas neto\n",
    "#averiguar la suma del descuento aplicado\n",
    "#averiguar el promedio de ventas\n",
    "#averiguar la suma acumulada de ventas neto\n",
    "#ver el campo ventas ordenado de manera descendente\n",
    "\n",
    "import pandas as pd\n",
    "clientes = pd.DataFrame([{'Cliente':'cliente1', 'Ventas': 2800 },\n",
    "                        {'Cliente':'cliente2', 'Ventas': 3450 },\n",
    "                        {'Cliente':'cliente3', 'Ventas': 1870 },\n",
    "                        {'Cliente':'cliente4', 'Ventas': 2458 },\n",
    "                        {'Cliente':'cliente5', 'Ventas': 6053 }])\n",
    "clientes\n",
    "\n"
   ]
  },
  {
   "cell_type": "code",
   "execution_count": 126,
   "id": "01a4dee3-4314-4d10-9280-a2a167801d62",
   "metadata": {
    "tags": []
   },
   "outputs": [
    {
     "data": {
      "text/html": [
       "<div>\n",
       "<style scoped>\n",
       "    .dataframe tbody tr th:only-of-type {\n",
       "        vertical-align: middle;\n",
       "    }\n",
       "\n",
       "    .dataframe tbody tr th {\n",
       "        vertical-align: top;\n",
       "    }\n",
       "\n",
       "    .dataframe thead th {\n",
       "        text-align: right;\n",
       "    }\n",
       "</style>\n",
       "<table border=\"1\" class=\"dataframe\">\n",
       "  <thead>\n",
       "    <tr style=\"text-align: right;\">\n",
       "      <th></th>\n",
       "      <th>Cliente</th>\n",
       "      <th>Ventas</th>\n",
       "      <th>3%</th>\n",
       "    </tr>\n",
       "  </thead>\n",
       "  <tbody>\n",
       "    <tr>\n",
       "      <th>0</th>\n",
       "      <td>cliente1</td>\n",
       "      <td>2800</td>\n",
       "      <td>84.00</td>\n",
       "    </tr>\n",
       "    <tr>\n",
       "      <th>1</th>\n",
       "      <td>cliente2</td>\n",
       "      <td>3450</td>\n",
       "      <td>103.50</td>\n",
       "    </tr>\n",
       "    <tr>\n",
       "      <th>2</th>\n",
       "      <td>cliente3</td>\n",
       "      <td>1870</td>\n",
       "      <td>56.10</td>\n",
       "    </tr>\n",
       "    <tr>\n",
       "      <th>3</th>\n",
       "      <td>cliente4</td>\n",
       "      <td>2458</td>\n",
       "      <td>73.74</td>\n",
       "    </tr>\n",
       "    <tr>\n",
       "      <th>4</th>\n",
       "      <td>cliente5</td>\n",
       "      <td>6053</td>\n",
       "      <td>181.59</td>\n",
       "    </tr>\n",
       "  </tbody>\n",
       "</table>\n",
       "</div>"
      ],
      "text/plain": [
       "    Cliente  Ventas      3%\n",
       "0  cliente1    2800   84.00\n",
       "1  cliente2    3450  103.50\n",
       "2  cliente3    1870   56.10\n",
       "3  cliente4    2458   73.74\n",
       "4  cliente5    6053  181.59"
      ]
     },
     "execution_count": 126,
     "metadata": {},
     "output_type": "execute_result"
    }
   ],
   "source": [
    "clientes['3%'] = clientes['Ventas']*0.03\n",
    "clientes"
   ]
  },
  {
   "cell_type": "code",
   "execution_count": 127,
   "id": "3fe28c1c-1344-45ee-9c1d-7fd6a193e455",
   "metadata": {
    "tags": []
   },
   "outputs": [
    {
     "data": {
      "text/html": [
       "<div>\n",
       "<style scoped>\n",
       "    .dataframe tbody tr th:only-of-type {\n",
       "        vertical-align: middle;\n",
       "    }\n",
       "\n",
       "    .dataframe tbody tr th {\n",
       "        vertical-align: top;\n",
       "    }\n",
       "\n",
       "    .dataframe thead th {\n",
       "        text-align: right;\n",
       "    }\n",
       "</style>\n",
       "<table border=\"1\" class=\"dataframe\">\n",
       "  <thead>\n",
       "    <tr style=\"text-align: right;\">\n",
       "      <th></th>\n",
       "      <th>Cliente</th>\n",
       "      <th>Ventas</th>\n",
       "      <th>3%</th>\n",
       "      <th>ventasneto</th>\n",
       "    </tr>\n",
       "  </thead>\n",
       "  <tbody>\n",
       "    <tr>\n",
       "      <th>0</th>\n",
       "      <td>cliente1</td>\n",
       "      <td>2800</td>\n",
       "      <td>84.00</td>\n",
       "      <td>2716.00</td>\n",
       "    </tr>\n",
       "    <tr>\n",
       "      <th>1</th>\n",
       "      <td>cliente2</td>\n",
       "      <td>3450</td>\n",
       "      <td>103.50</td>\n",
       "      <td>3346.50</td>\n",
       "    </tr>\n",
       "    <tr>\n",
       "      <th>2</th>\n",
       "      <td>cliente3</td>\n",
       "      <td>1870</td>\n",
       "      <td>56.10</td>\n",
       "      <td>1813.90</td>\n",
       "    </tr>\n",
       "    <tr>\n",
       "      <th>3</th>\n",
       "      <td>cliente4</td>\n",
       "      <td>2458</td>\n",
       "      <td>73.74</td>\n",
       "      <td>2384.26</td>\n",
       "    </tr>\n",
       "    <tr>\n",
       "      <th>4</th>\n",
       "      <td>cliente5</td>\n",
       "      <td>6053</td>\n",
       "      <td>181.59</td>\n",
       "      <td>5871.41</td>\n",
       "    </tr>\n",
       "  </tbody>\n",
       "</table>\n",
       "</div>"
      ],
      "text/plain": [
       "    Cliente  Ventas      3%  ventasneto\n",
       "0  cliente1    2800   84.00     2716.00\n",
       "1  cliente2    3450  103.50     3346.50\n",
       "2  cliente3    1870   56.10     1813.90\n",
       "3  cliente4    2458   73.74     2384.26\n",
       "4  cliente5    6053  181.59     5871.41"
      ]
     },
     "execution_count": 127,
     "metadata": {},
     "output_type": "execute_result"
    }
   ],
   "source": [
    "clientes['ventasneto'] = clientes['Ventas'] - clientes['3%']\n",
    "clientes"
   ]
  },
  {
   "cell_type": "code",
   "execution_count": 128,
   "id": "885a4ea0-c223-4910-af1d-eeb26ffd96ec",
   "metadata": {
    "tags": []
   },
   "outputs": [
    {
     "data": {
      "text/html": [
       "<div>\n",
       "<style scoped>\n",
       "    .dataframe tbody tr th:only-of-type {\n",
       "        vertical-align: middle;\n",
       "    }\n",
       "\n",
       "    .dataframe tbody tr th {\n",
       "        vertical-align: top;\n",
       "    }\n",
       "\n",
       "    .dataframe thead th {\n",
       "        text-align: right;\n",
       "    }\n",
       "</style>\n",
       "<table border=\"1\" class=\"dataframe\">\n",
       "  <thead>\n",
       "    <tr style=\"text-align: right;\">\n",
       "      <th></th>\n",
       "      <th>Cliente</th>\n",
       "      <th>Ventas</th>\n",
       "      <th>3%</th>\n",
       "      <th>ventasneto</th>\n",
       "    </tr>\n",
       "  </thead>\n",
       "  <tbody>\n",
       "    <tr>\n",
       "      <th>0</th>\n",
       "      <td>cliente1</td>\n",
       "      <td>2800</td>\n",
       "      <td>84.00</td>\n",
       "      <td>2716.00</td>\n",
       "    </tr>\n",
       "    <tr>\n",
       "      <th>1</th>\n",
       "      <td>cliente2</td>\n",
       "      <td>3450</td>\n",
       "      <td>103.50</td>\n",
       "      <td>3346.50</td>\n",
       "    </tr>\n",
       "    <tr>\n",
       "      <th>2</th>\n",
       "      <td>cliente3</td>\n",
       "      <td>1870</td>\n",
       "      <td>56.10</td>\n",
       "      <td>1813.90</td>\n",
       "    </tr>\n",
       "    <tr>\n",
       "      <th>3</th>\n",
       "      <td>cliente4</td>\n",
       "      <td>2458</td>\n",
       "      <td>73.74</td>\n",
       "      <td>2384.26</td>\n",
       "    </tr>\n",
       "    <tr>\n",
       "      <th>4</th>\n",
       "      <td>cliente5</td>\n",
       "      <td>6053</td>\n",
       "      <td>181.59</td>\n",
       "      <td>5871.41</td>\n",
       "    </tr>\n",
       "  </tbody>\n",
       "</table>\n",
       "</div>"
      ],
      "text/plain": [
       "    Cliente  Ventas      3%  ventasneto\n",
       "0  cliente1    2800   84.00     2716.00\n",
       "1  cliente2    3450  103.50     3346.50\n",
       "2  cliente3    1870   56.10     1813.90\n",
       "3  cliente4    2458   73.74     2384.26\n",
       "4  cliente5    6053  181.59     5871.41"
      ]
     },
     "execution_count": 128,
     "metadata": {},
     "output_type": "execute_result"
    }
   ],
   "source": [
    "clientes['ventasneto'].max()\n",
    "clientes"
   ]
  },
  {
   "cell_type": "code",
   "execution_count": 129,
   "id": "a6813d69-961d-4ef4-8225-e05735b95b25",
   "metadata": {
    "tags": []
   },
   "outputs": [
    {
     "name": "stdout",
     "output_type": "stream",
     "text": [
      "5871.41\n"
     ]
    }
   ],
   "source": [
    "print(clientes['ventasneto'].max())"
   ]
  },
  {
   "cell_type": "code",
   "execution_count": 136,
   "id": "483bbaca-e878-4a5b-995d-4a2638af2c75",
   "metadata": {
    "tags": []
   },
   "outputs": [
    {
     "data": {
      "text/plain": [
       "'498.93'"
      ]
     },
     "execution_count": 136,
     "metadata": {},
     "output_type": "execute_result"
    }
   ],
   "source": [
    "\"{0:.2f}\".format(clientes['3%'].sum())"
   ]
  },
  {
   "cell_type": "code",
   "execution_count": 131,
   "id": "f3ab79bd-9ad1-4d81-8305-7cb3ee11bfab",
   "metadata": {
    "tags": []
   },
   "outputs": [
    {
     "data": {
      "text/plain": [
       "3326.2"
      ]
     },
     "execution_count": 131,
     "metadata": {},
     "output_type": "execute_result"
    }
   ],
   "source": [
    "clientes['Ventas'].mean()"
   ]
  },
  {
   "cell_type": "code",
   "execution_count": 132,
   "id": "c6a5eaf3-6cac-4076-a37a-6cbe6cee45b2",
   "metadata": {
    "tags": []
   },
   "outputs": [
    {
     "data": {
      "text/plain": [
       "16132.07"
      ]
     },
     "execution_count": 132,
     "metadata": {},
     "output_type": "execute_result"
    }
   ],
   "source": [
    "clientes['ventasneto'].sum()"
   ]
  },
  {
   "cell_type": "code",
   "execution_count": 135,
   "id": "54564b12-61e2-48c6-9f5d-583135a44303",
   "metadata": {
    "tags": []
   },
   "outputs": [
    {
     "data": {
      "text/plain": [
       "4    6053\n",
       "1    3450\n",
       "0    2800\n",
       "3    2458\n",
       "2    1870\n",
       "Name: Ventas, dtype: int64"
      ]
     },
     "execution_count": 135,
     "metadata": {},
     "output_type": "execute_result"
    }
   ],
   "source": [
    "clientes['Ventas'].sort_values(ascending = False)"
   ]
  },
  {
   "cell_type": "code",
   "execution_count": null,
   "id": "9f5bb869-c4e2-4aa1-88c9-0b159c3af615",
   "metadata": {},
   "outputs": [],
   "source": []
  }
 ],
 "metadata": {
  "kernelspec": {
   "display_name": "Python 3 (ipykernel)",
   "language": "python",
   "name": "python3"
  },
  "language_info": {
   "codemirror_mode": {
    "name": "ipython",
    "version": 3
   },
   "file_extension": ".py",
   "mimetype": "text/x-python",
   "name": "python",
   "nbconvert_exporter": "python",
   "pygments_lexer": "ipython3",
   "version": "3.11.2"
  }
 },
 "nbformat": 4,
 "nbformat_minor": 5
}
