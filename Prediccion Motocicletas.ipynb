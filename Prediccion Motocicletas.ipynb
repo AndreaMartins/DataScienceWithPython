{
 "cells": [
  {
   "cell_type": "code",
   "execution_count": 2,
   "id": "839c5629-10bd-4fa9-b78d-a130a0e7f876",
   "metadata": {
    "tags": []
   },
   "outputs": [
    {
     "data": {
      "text/html": [
       "<div>\n",
       "<style scoped>\n",
       "    .dataframe tbody tr th:only-of-type {\n",
       "        vertical-align: middle;\n",
       "    }\n",
       "\n",
       "    .dataframe tbody tr th {\n",
       "        vertical-align: top;\n",
       "    }\n",
       "\n",
       "    .dataframe thead th {\n",
       "        text-align: right;\n",
       "    }\n",
       "</style>\n",
       "<table border=\"1\" class=\"dataframe\">\n",
       "  <thead>\n",
       "    <tr style=\"text-align: right;\">\n",
       "      <th></th>\n",
       "      <th>Año</th>\n",
       "      <th>Tipo de vehículo</th>\n",
       "      <th>Combustible</th>\n",
       "      <th>Unidades</th>\n",
       "    </tr>\n",
       "  </thead>\n",
       "  <tbody>\n",
       "    <tr>\n",
       "      <th>0</th>\n",
       "      <td>2005</td>\n",
       "      <td>Motocicletas</td>\n",
       "      <td>Gasolina</td>\n",
       "      <td>3215</td>\n",
       "    </tr>\n",
       "    <tr>\n",
       "      <th>1</th>\n",
       "      <td>2006</td>\n",
       "      <td>Motocicletas</td>\n",
       "      <td>Gasolina</td>\n",
       "      <td>3626</td>\n",
       "    </tr>\n",
       "    <tr>\n",
       "      <th>2</th>\n",
       "      <td>2007</td>\n",
       "      <td>Motocicletas</td>\n",
       "      <td>Gasolina</td>\n",
       "      <td>4163</td>\n",
       "    </tr>\n",
       "    <tr>\n",
       "      <th>3</th>\n",
       "      <td>2008</td>\n",
       "      <td>Motocicletas</td>\n",
       "      <td>Gasolina</td>\n",
       "      <td>4492</td>\n",
       "    </tr>\n",
       "    <tr>\n",
       "      <th>4</th>\n",
       "      <td>2009</td>\n",
       "      <td>Motocicletas</td>\n",
       "      <td>Gasolina</td>\n",
       "      <td>4762</td>\n",
       "    </tr>\n",
       "    <tr>\n",
       "      <th>5</th>\n",
       "      <td>2010</td>\n",
       "      <td>Motocicletas</td>\n",
       "      <td>Gasolina</td>\n",
       "      <td>4929</td>\n",
       "    </tr>\n",
       "    <tr>\n",
       "      <th>6</th>\n",
       "      <td>2011</td>\n",
       "      <td>Motocicletas</td>\n",
       "      <td>Gasolina</td>\n",
       "      <td>5140</td>\n",
       "    </tr>\n",
       "    <tr>\n",
       "      <th>7</th>\n",
       "      <td>2012</td>\n",
       "      <td>Motocicletas</td>\n",
       "      <td>Gasolina</td>\n",
       "      <td>5282</td>\n",
       "    </tr>\n",
       "    <tr>\n",
       "      <th>8</th>\n",
       "      <td>2013</td>\n",
       "      <td>Motocicletas</td>\n",
       "      <td>Gasolina</td>\n",
       "      <td>5432</td>\n",
       "    </tr>\n",
       "    <tr>\n",
       "      <th>9</th>\n",
       "      <td>2014</td>\n",
       "      <td>Motocicletas</td>\n",
       "      <td>Gasolina</td>\n",
       "      <td>5605</td>\n",
       "    </tr>\n",
       "    <tr>\n",
       "      <th>10</th>\n",
       "      <td>2015</td>\n",
       "      <td>Motocicletas</td>\n",
       "      <td>Gasolina</td>\n",
       "      <td>5757</td>\n",
       "    </tr>\n",
       "    <tr>\n",
       "      <th>11</th>\n",
       "      <td>2016</td>\n",
       "      <td>Motocicletas</td>\n",
       "      <td>Gasolina</td>\n",
       "      <td>5989</td>\n",
       "    </tr>\n",
       "    <tr>\n",
       "      <th>12</th>\n",
       "      <td>2017</td>\n",
       "      <td>Motocicletas</td>\n",
       "      <td>Gasolina</td>\n",
       "      <td>6187</td>\n",
       "    </tr>\n",
       "    <tr>\n",
       "      <th>13</th>\n",
       "      <td>2018</td>\n",
       "      <td>Motocicletas</td>\n",
       "      <td>Gasolina</td>\n",
       "      <td>6400</td>\n",
       "    </tr>\n",
       "    <tr>\n",
       "      <th>14</th>\n",
       "      <td>2019</td>\n",
       "      <td>Motocicletas</td>\n",
       "      <td>Gasolina</td>\n",
       "      <td>6668</td>\n",
       "    </tr>\n",
       "  </tbody>\n",
       "</table>\n",
       "</div>"
      ],
      "text/plain": [
       "     Año Tipo de vehículo Combustible  Unidades\n",
       "0   2005     Motocicletas    Gasolina      3215\n",
       "1   2006     Motocicletas    Gasolina      3626\n",
       "2   2007     Motocicletas    Gasolina      4163\n",
       "3   2008     Motocicletas    Gasolina      4492\n",
       "4   2009     Motocicletas    Gasolina      4762\n",
       "5   2010     Motocicletas    Gasolina      4929\n",
       "6   2011     Motocicletas    Gasolina      5140\n",
       "7   2012     Motocicletas    Gasolina      5282\n",
       "8   2013     Motocicletas    Gasolina      5432\n",
       "9   2014     Motocicletas    Gasolina      5605\n",
       "10  2015     Motocicletas    Gasolina      5757\n",
       "11  2016     Motocicletas    Gasolina      5989\n",
       "12  2017     Motocicletas    Gasolina      6187\n",
       "13  2018     Motocicletas    Gasolina      6400\n",
       "14  2019     Motocicletas    Gasolina      6668"
      ]
     },
     "execution_count": 2,
     "metadata": {},
     "output_type": "execute_result"
    }
   ],
   "source": [
    "#para hacer un analisis predictivo con regresion lineal, vamos a necesitar lo siguiente \n",
    "#libreria pandas, libreria numpyy, libreria matploblib, llibreria scikit-learn(el modelo predictivo)\n",
    "import pandas as pd\n",
    "import matplotlib.pyplot as plt\n",
    "import numpy as np\n",
    "from sklearn.linear_model import LinearRegression\n",
    "#Poner el fichero plano (txt, csv, .slsx, etc...)\n",
    "df= pd.read_csv(\"Motocicletas gasolina.csv\")\n",
    "df"
   ]
  },
  {
   "cell_type": "code",
   "execution_count": 4,
   "id": "39b3bd8a-148d-4a50-8266-6698c2990f37",
   "metadata": {
    "tags": []
   },
   "outputs": [
    {
     "name": "stdout",
     "output_type": "stream",
     "text": [
      "<class 'pandas.core.frame.DataFrame'>\n",
      "RangeIndex: 15 entries, 0 to 14\n",
      "Data columns (total 4 columns):\n",
      " #   Column            Non-Null Count  Dtype \n",
      "---  ------            --------------  ----- \n",
      " 0   Año               15 non-null     int64 \n",
      " 1   Tipo de vehículo  15 non-null     object\n",
      " 2   Combustible       15 non-null     object\n",
      " 3   Unidades          15 non-null     int64 \n",
      "dtypes: int64(2), object(2)\n",
      "memory usage: 612.0+ bytes\n"
     ]
    },
    {
     "data": {
      "image/png": "[encoded data removed]",
      "text/plain": [
       "<Figure size 640x480 with 1 Axes>"
      ]
     },
     "metadata": {},
     "output_type": "display_data"
    }
   ],
   "source": [
    "#la representacion grafica de los datos\n",
    "#la variable x= año (la variable independiente)\n",
    "#la variable y = unidades (la variable dependiente)\n",
    "x = df ['Año']\n",
    "y = df ['Unidades']\n",
    "#representacion del grafico \n",
    "plt.scatter (x,y,color='red')\n",
    "plt.title('Motocicletas')\n",
    "plt.show\n",
    "\n",
    "df.info()"
   ]
  },
  {
   "cell_type": "code",
   "execution_count": 7,
   "id": "c895b68f-0459-40c7-8d18-30874cc5b9f5",
   "metadata": {
    "tags": []
   },
   "outputs": [
    {
     "name": "stdout",
     "output_type": "stream",
     "text": [
      "la pendiente seria [219.82857143]\n",
      "la interception seria -437118.61904761905\n"
     ]
    }
   ],
   "source": [
    "#craremos la instancia de la regresion lineal\n",
    "regression_lineal = LinearRegression() #creo la instancia\n",
    "#como entrenar el modelo, para que aprenda \n",
    "regression_lineal.fit(x.values.reshape(-1,1), y)\n",
    "#a es la pendiente b es la interseccion\n",
    "a = regression_lineal.coef_ #me da la pendiente\n",
    "b = regression_lineal.intercept_ #me da la interseccion\n",
    "print(\"la pendiente seria \" + str(a))\n",
    "print(\"la interception seria \" + str(b))\n"
   ]
  },
  {
   "cell_type": "markdown",
   "id": "0f06186e-1608-40d7-be0d-3bac2b974fc5",
   "metadata": {
    "tags": []
   },
   "source": [
    "#con estos datos vamos a ver cuantas motocicletas tnedre en el 2030\n",
    "y2 = a * 2030 + b\n",
    "print(\"En el 2030 tender \" + str(y2) + \" motocicletas\")"
   ]
  },
  {
   "cell_type": "code",
   "execution_count": 9,
   "id": "744b6fbc-6d4a-41d0-8114-c637f35ee97e",
   "metadata": {
    "tags": []
   },
   "outputs": [
    {
     "name": "stdout",
     "output_type": "stream",
     "text": [
      "En el 2030 tendre [9133.38095238] motocicletas\n"
     ]
    }
   ],
   "source": [
    "#con estos datos vamos a ver cuantas motocicletas tnedre en el 2030 \n",
    "y2 = a * 2030 + b \n",
    "print(\"En el 2030 tendre \" + str(y2) + \" motocicletas\")"
   ]
  },
  {
   "cell_type": "code",
   "execution_count": 17,
   "id": "82d8f7c1-360b-4ddd-b67c-d2748dbf57f9",
   "metadata": {
    "tags": []
   },
   "outputs": [
    {
     "name": "stdout",
     "output_type": "stream",
     "text": [
      "El coeficiente r2 es igual a {0.9677744741921321}\n"
     ]
    },
    {
     "data": {
      "image/png": "[encoded data removed]",
      "text/plain": [
       "<Figure size 640x480 with 1 Axes>"
      ]
     },
     "metadata": {},
     "output_type": "display_data"
    }
   ],
   "source": [
    "#vamos a crear el grafico de dispersion + la linea de tendencia\n",
    "#+ el coeficiente r2(el % en el que el modelo es fiable)\n",
    "from sklearn.metrics import r2_score\n",
    "\n",
    "plt.plot(x,y,\".\",color = 'Blue')\n",
    "z = np.polyfit(x,y,1)\n",
    "y_hat = np.poly1d(z)(x)\n",
    "\n",
    "plt.plot(x, y_hat, \"r--\", lw=1);\n",
    "\n",
    "#vamos a calcular el coeficiente R2\n",
    "texto = {r2_score(y,y_hat)}\n",
    "print(\"El coeficiente r2 es igual a \" + str(texto))"
   ]
  },
  {
   "cell_type": "code",
   "execution_count": 19,
   "id": "b6a76f2f-905c-4329-b3d6-ffc6ba04ea15",
   "metadata": {
    "tags": []
   },
   "outputs": [
    {
     "name": "stdout",
     "output_type": "stream",
     "text": [
      "El numer de motocicleta[9133.38095238]\n"
     ]
    }
   ],
   "source": [
    "#que nos predice el modelo, necesito una variable con el año \n",
    "nuevoaño = np.array([2030])\n",
    "prediccion =regression_lineal.predict(nuevoaño.reshape(-1,1))\n",
    "print(\"El numer de motocicleta\" + str(prediccion))"
   ]
  },
  {
   "cell_type": "code",
   "execution_count": null,
   "id": "da0d4b55-cdb0-40d0-9e92-ae8ab05c3a71",
   "metadata": {},
   "outputs": [],
   "source": []
  }
 ],
 "metadata": {
  "kernelspec": {
   "display_name": "Python 3 (ipykernel)",
   "language": "python",
   "name": "python3"
  },
  "language_info": {
   "codemirror_mode": {
    "name": "ipython",
    "version": 3
   },
   "file_extension": ".py",
   "mimetype": "text/x-python",
   "name": "python",
   "nbconvert_exporter": "python",
   "pygments_lexer": "ipython3",
   "version": "3.11.2"
  }
 },
 "nbformat": 4,
 "nbformat_minor": 5
}
